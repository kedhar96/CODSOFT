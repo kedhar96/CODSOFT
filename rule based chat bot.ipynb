{
 "cells": [
  {
   "cell_type": "code",
   "execution_count": null,
   "id": "607d1b57",
   "metadata": {},
   "outputs": [
    {
     "name": "stdout",
     "output_type": "stream",
     "text": [
      "Rule-Based Chatbot: Hello! How can I help you today?\n",
      "You: hi\n",
      "Rule-Based Chatbot: I didn't understand that. Can you please rephrase?\n",
      "You: how are you\n",
      "Rule-Based Chatbot: I'm doing well, thanks for asking.\n",
      "You: bye\n",
      "Rule-Based Chatbot: Take care!\n",
      "You: hello\n",
      "Rule-Based Chatbot: hi\n",
      "You: hello\n",
      "Rule-Based Chatbot: Greetings!\n",
      "You: hi\n",
      "Rule-Based Chatbot: I didn't understand that. Can you please rephrase?\n",
      "You: hello\n",
      "Rule-Based Chatbot: Hello!\n",
      "You: how are you\n",
      "Rule-Based Chatbot: I'm doing well, thanks for asking.\n",
      "You: bye\n",
      "Rule-Based Chatbot: Goodbye!\n",
      "You: what the f\n",
      "Rule-Based Chatbot: I didn't understand that. Can you please rephrase?\n"
     ]
    }
   ],
   "source": [
    "import random\n",
    "\n",
    "def rule_based_chatbot(user_input):\n",
    "    # Define rules and responses\n",
    "    rules = {\n",
    "        'wh\n",
    "        'hello': ['Hi there!', 'Hello!', 'Greetings!', 'hi'],\n",
    "        'how are you': ['I am good, thank you!', 'I\\'m doing well, thanks for asking.'],\n",
    "        'bye': ['Goodbye!', 'See you later!', 'Take care!'],\n",
    "        'default': ['I didn\\'t understand that. Can you please rephrase?', 'I\\'m not sure what you mean.']\n",
    "    }\n",
    "\n",
    "\n",
    "    user_input_lower = user_input.lower()\n",
    "\n",
    "\n",
    "    for rule, responses in rules.items():\n",
    "        if rule in user_input_lower:\n",
    "            return random.choice(responses)\n",
    "\n",
    "\n",
    "    return random.choice(rules['default'])\n",
    "\n",
    "\n",
    "print(\"Rule-Based Chatbot: Hello! How can I help you today?\")\n",
    "while True:\n",
    "    user_input = input(\"You: \")\n",
    "    if user_input.lower() == 'exit':\n",
    "        print(\"Rule-Based Chatbot: Goodbye!\")\n",
    "        break\n",
    "    response = rule_based_chatbot(user_input)\n",
    "    print(\"Rule-Based Chatbot:\", response)\n"
   ]
  },
  {
   "cell_type": "code",
   "execution_count": null,
   "id": "33da8da9",
   "metadata": {},
   "outputs": [],
   "source": []
  }
 ],
 "metadata": {
  "kernelspec": {
   "display_name": "Python 3 (ipykernel)",
   "language": "python",
   "name": "python3"
  },
  "language_info": {
   "codemirror_mode": {
    "name": "ipython",
    "version": 3
   },
   "file_extension": ".py",
   "mimetype": "text/x-python",
   "name": "python",
   "nbconvert_exporter": "python",
   "pygments_lexer": "ipython3",
   "version": "3.11.5"
  }
 },
 "nbformat": 4,
 "nbformat_minor": 5
}
